{
  "nbformat": 4,
  "nbformat_minor": 0,
  "metadata": {
    "colab": {
      "provenance": []
    },
    "kernelspec": {
      "name": "python3",
      "display_name": "Python 3"
    },
    "language_info": {
      "name": "python"
    }
  },
  "cells": [
    {
      "cell_type": "code",
      "source": [
        "# CodeAlpha Internship — Basic Chatbot 🤖\n",
        "## Submitted by: Mohammad Rizwan"
      ],
      "metadata": {
        "id": "Kd6UQd6h9qQD"
      },
      "execution_count": null,
      "outputs": []
    },
    {
      "cell_type": "code",
      "source": [
        "def respond_to_input(user_input):\n",
        "    user_input = user_input.lower()\n",
        "\n",
        "    if user_input in [\"hello\", \"hi\", \"hey\"]:\n",
        "        return \"Hi there! 👋\"\n",
        "    elif user_input in [\"how are you\", \"how r u\"]:\n",
        "        return \"I'm doing well, thanks! 😊\"\n",
        "    elif user_input in [\"what is your name\", \"who are you\"]:\n",
        "        return \"I'm your simple Python chatbot 🤖\"\n",
        "    elif user_input in [\"bye\", \"exit\", \"quit\"]:\n",
        "        return \"Goodbye! 👋 Have a great day!\"\n",
        "    else:\n",
        "        return \"Sorry, I didn't understand that. 😅\"\n",
        "\n",
        "def start_chatbot():\n",
        "    print(\"Welcome to the Chatbot! Type 'bye' to exit.\\n\")\n",
        "\n",
        "    while True:\n",
        "        user_input = input(\"You: \")\n",
        "        reply = respond_to_input(user_input)\n",
        "        print(\"Bot:\", reply)\n",
        "\n",
        "        if user_input.lower() in [\"bye\", \"exit\", \"quit\"]:\n",
        "            break\n",
        "\n",
        "# Start the chatbot\n",
        "start_chatbot()\n"
      ],
      "metadata": {
        "colab": {
          "base_uri": "https://localhost:8080/"
        },
        "id": "8uSy6m2o91dP",
        "outputId": "603cd3a4-6a58-4101-dd8c-3bfbab5997b1"
      },
      "execution_count": 3,
      "outputs": [
        {
          "output_type": "stream",
          "name": "stdout",
          "text": [
            "Welcome to the Chatbot! Type 'bye' to exit.\n",
            "\n",
            "You: HI\n",
            "Bot: Hi there! 👋\n",
            "You: HOW ARE YOU\n",
            "Bot: I'm doing well, thanks! 😊\n",
            "You: BYE\n",
            "Bot: Goodbye! 👋 Have a great day!\n"
          ]
        }
      ]
    }
  ]
}